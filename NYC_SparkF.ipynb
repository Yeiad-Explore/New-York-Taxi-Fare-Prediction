{
  "nbformat": 4,
  "nbformat_minor": 0,
  "metadata": {
    "colab": {
      "provenance": []
    },
    "kernelspec": {
      "name": "python3",
      "display_name": "Python 3"
    },
    "language_info": {
      "name": "python"
    }
  },
  "cells": [
    {
      "cell_type": "markdown",
      "source": [
        "# **New York Taxi Fare Prediction**"
      ],
      "metadata": {
        "id": "gd3s314pyGWT"
      }
    },
    {
      "cell_type": "code",
      "execution_count": null,
      "metadata": {
        "id": "YC-ikVD5x4Cy"
      },
      "outputs": [],
      "source": [
        "!pwd\n",
        "!ls\n",
        "!python --version\n",
        "#Hadoop Installation\n",
        "!wget https://dlcdn.apache.org/spark/spark-3.4.1/spark-3.4.1-bin-hadoop3.tgz\n",
        "!tar xvzf spark-3.4.1-bin-hadoop3.tgz\n",
        "!pip install findspark"
      ]
    },
    {
      "cell_type": "code",
      "source": [
        "import os\n",
        "os.environ[\"SPARK_HOME\"] = \"/content/spark-3.4.1-bin-hadoop3\"\n",
        "import findspark\n",
        "findspark.init()"
      ],
      "metadata": {
        "id": "OL5pkEjax7tw"
      },
      "execution_count": null,
      "outputs": []
    },
    {
      "cell_type": "code",
      "source": [
        "from pyspark.sql import SparkSession\n",
        "spark = SparkSession.builder.appName(\"NYC Taxi Fare Prediction\").getOrCreate()\n",
        "print(spark.sparkContext.appName)"
      ],
      "metadata": {
        "colab": {
          "base_uri": "https://localhost:8080/"
        },
        "id": "kCMa_UVLyDhc",
        "outputId": "5916c6d0-efe6-4079-86b1-9a374e3f4243"
      },
      "execution_count": null,
      "outputs": [
        {
          "output_type": "stream",
          "name": "stdout",
          "text": [
            "NYC Taxi Fare Prediction\n"
          ]
        }
      ]
    },
    {
      "cell_type": "code",
      "source": [
        "from google.colab import drive\n",
        "drive.mount('/content/drive')"
      ],
      "metadata": {
        "colab": {
          "base_uri": "https://localhost:8080/"
        },
        "id": "muPND34dybDM",
        "outputId": "fabcd82a-ce5d-4d81-e34b-9ecfcc5d9bd6"
      },
      "execution_count": null,
      "outputs": [
        {
          "output_type": "stream",
          "name": "stdout",
          "text": [
            "Mounted at /content/drive\n"
          ]
        }
      ]
    },
    {
      "cell_type": "code",
      "source": [
        "df = spark.read.csv(\"/content/drive/MyDrive/Big Data Project/NYC CSV.csv\", header=True, inferSchema=True)"
      ],
      "metadata": {
        "id": "nt-9kzUjyNsw"
      },
      "execution_count": null,
      "outputs": []
    },
    {
      "cell_type": "code",
      "source": [
        "df.show()"
      ],
      "metadata": {
        "colab": {
          "base_uri": "https://localhost:8080/"
        },
        "id": "U_Cpjxf-yTfU",
        "outputId": "9a8e85f3-1698-4e15-a82b-d648e582e97c"
      },
      "execution_count": null,
      "outputs": [
        {
          "output_type": "stream",
          "name": "stdout",
          "text": [
            "+-------+-----------+-------------------+----------------+---------------+-----------------+----------------+---------------+\n",
            "|    key|fare_amount|    pickup_datetime|pickup_longitude|pickup_latitude|dropoff_longitude|dropoff_latitude|passenger_count|\n",
            "+-------+-----------+-------------------+----------------+---------------+-----------------+----------------+---------------+\n",
            "|26:21.0|        4.5|2009-06-15 17:26:21|      -73.844311|      40.721319|        -73.84161|       40.712278|              1|\n",
            "|52:16.0|       16.9|2010-01-05 16:52:16|      -74.016048|      40.711303|       -73.979268|       40.782004|              1|\n",
            "|35:00.0|        5.7|2011-08-18 00:35:00|      -73.982738|       40.76127|       -73.991242|       40.750562|              2|\n",
            "|30:42.0|        7.7|2012-04-21 04:30:42|       -73.98713|      40.733143|       -73.991567|       40.758092|              1|\n",
            "|51:00.0|        5.3|2010-03-09 07:51:00|      -73.968095|      40.768008|       -73.956655|       40.783762|              1|\n",
            "|50:45.0|       12.1|2011-01-06 09:50:45|      -74.000964|       40.73163|       -73.972892|       40.758233|              1|\n",
            "|35:00.0|        7.5|2012-11-20 20:35:00|      -73.980002|      40.751662|       -73.973802|       40.764842|              1|\n",
            "|22:00.0|       16.5|2012-01-04 17:22:00|        -73.9513|      40.774138|       -73.990095|       40.751048|              1|\n",
            "|10:00.0|        9.0|2012-12-03 13:10:00|      -74.006462|      40.726713|       -73.993078|       40.731628|              1|\n",
            "|11:00.0|        8.9|2009-09-02 01:11:00|      -73.980658|      40.733873|        -73.99154|       40.758138|              2|\n",
            "|30:50.0|        5.3|2012-04-08 07:30:50|      -73.996335|      40.737142|       -73.980721|       40.733559|              1|\n",
            "|24:00.0|        5.5|2012-12-24 11:24:00|             0.0|            0.0|              0.0|             0.0|              3|\n",
            "|04:03.0|        4.1|2009-11-06 01:04:03|      -73.991601|      40.744712|       -73.983081|       40.744682|              2|\n",
            "|54:00.0|        7.0|2013-07-02 19:54:00|       -74.00536|      40.728867|       -74.008913|       40.710907|              1|\n",
            "|11:05.0|        7.7|2011-04-05 17:11:05|      -74.001821|      40.737547|        -73.99806|       40.722788|              2|\n",
            "|57:00.0|        5.0|2013-11-23 12:57:00|             0.0|            0.0|              0.0|             0.0|              1|\n",
            "|22:00.0|       12.5|2014-02-19 07:22:00|       -73.98643|      40.760465|        -73.98899|       40.737075|              1|\n",
            "|08:00.0|        5.3|2009-07-22 16:08:00|       -73.98106|       40.73769|       -73.994177|       40.728412|              1|\n",
            "|52:00.0|        5.3|2010-07-07 14:52:00|      -73.969505|      40.784843|       -73.958732|       40.783357|              1|\n",
            "|36:22.0|        4.0|2014-12-06 20:36:22|      -73.979815|      40.751902|       -73.979446|       40.755481|              1|\n",
            "+-------+-----------+-------------------+----------------+---------------+-----------------+----------------+---------------+\n",
            "only showing top 20 rows\n",
            "\n"
          ]
        }
      ]
    },
    {
      "cell_type": "code",
      "source": [
        "df.printSchema()"
      ],
      "metadata": {
        "colab": {
          "base_uri": "https://localhost:8080/"
        },
        "id": "ik8e6u1mycsD",
        "outputId": "36116d5a-cc35-40be-bd4d-e1094b4abab7"
      },
      "execution_count": null,
      "outputs": [
        {
          "output_type": "stream",
          "name": "stdout",
          "text": [
            "root\n",
            " |-- key: string (nullable = true)\n",
            " |-- fare_amount: double (nullable = true)\n",
            " |-- pickup_datetime: timestamp (nullable = true)\n",
            " |-- pickup_longitude: double (nullable = true)\n",
            " |-- pickup_latitude: double (nullable = true)\n",
            " |-- dropoff_longitude: double (nullable = true)\n",
            " |-- dropoff_latitude: double (nullable = true)\n",
            " |-- passenger_count: integer (nullable = true)\n",
            "\n"
          ]
        }
      ]
    },
    {
      "cell_type": "code",
      "source": [
        "from pyspark.sql import SparkSession\n",
        "from pyspark.sql.functions import col, udf, hour, dayofweek,count, when, isnan\n",
        "from pyspark.sql.types import FloatType, DoubleType\n",
        "from pyspark.ml.feature import VectorAssembler, StandardScaler\n",
        "from pyspark.ml.regression import RandomForestRegressor\n",
        "from pyspark.ml.evaluation import RegressionEvaluator\n",
        "from geopy.distance import great_circle\n",
        "from pyspark.ml.regression import LinearRegression\n",
        "from pyspark.ml.evaluation import RegressionEvaluator\n",
        "from scipy.stats import iqr"
      ],
      "metadata": {
        "id": "Biv2M7DGygq1"
      },
      "execution_count": null,
      "outputs": []
    },
    {
      "cell_type": "markdown",
      "source": [
        "Null Value detection and Removal"
      ],
      "metadata": {
        "id": "RNxXlrRPzXVY"
      }
    },
    {
      "cell_type": "code",
      "source": [
        "def col_numeric(df, col_name):\n",
        "    return isinstance(df.schema[col_name].dataType, (FloatType, DoubleType))"
      ],
      "metadata": {
        "id": "LqmId_G1y-L7"
      },
      "execution_count": null,
      "outputs": []
    },
    {
      "cell_type": "code",
      "source": [
        "conditions = [\n",
        "    count(when(isnan(c) | col(c).isNull(), c)).alias(c)\n",
        "    if col_numeric(df, c) else count(when(col(c).isNull(), c)).alias(c)\n",
        "    for c in df.columns\n",
        "]"
      ],
      "metadata": {
        "id": "cP-iW82DzjAB"
      },
      "execution_count": null,
      "outputs": []
    },
    {
      "cell_type": "code",
      "source": [
        "null_counts = df.select(conditions).show()"
      ],
      "metadata": {
        "colab": {
          "base_uri": "https://localhost:8080/"
        },
        "id": "llsvHoSRzoRt",
        "outputId": "37d5d5a0-19a2-48f6-8f8a-1b7b458f76c0"
      },
      "execution_count": null,
      "outputs": [
        {
          "output_type": "stream",
          "name": "stdout",
          "text": [
            "+---+-----------+---------------+----------------+---------------+-----------------+----------------+---------------+\n",
            "|key|fare_amount|pickup_datetime|pickup_longitude|pickup_latitude|dropoff_longitude|dropoff_latitude|passenger_count|\n",
            "+---+-----------+---------------+----------------+---------------+-----------------+----------------+---------------+\n",
            "|  0|          0|              0|               0|              0|               10|              10|              0|\n",
            "+---+-----------+---------------+----------------+---------------+-----------------+----------------+---------------+\n",
            "\n"
          ]
        }
      ]
    },
    {
      "cell_type": "markdown",
      "source": [
        "Outlier Detection and removal"
      ],
      "metadata": {
        "id": "k48eUp120ixn"
      }
    },
    {
      "cell_type": "code",
      "source": [
        "from pyspark.sql.functions import col, lit\n",
        "\n",
        "import pyspark.sql.functions as F\n",
        "\n",
        "# IQR Calculation\n",
        "q1, q3 = df.approxQuantile(\"fare_amount\", [0.25, 0.75], 0)\n",
        "fare_iqr = q3 - q1\n",
        "\n",
        "\n",
        "lower_bound = q1 - 1.5 * fare_iqr\n",
        "upper_bound = q3 + 1.5 * fare_iqr\n",
        "\n",
        "\n",
        "df = df.filter((col(\"fare_amount\") >= lit(lower_bound)) & (col(\"fare_amount\") <= lit(upper_bound)))\n"
      ],
      "metadata": {
        "id": "MVPT7XDmzrY7"
      },
      "execution_count": null,
      "outputs": []
    },
    {
      "cell_type": "markdown",
      "source": [
        "Calculate Distance"
      ],
      "metadata": {
        "id": "pAkTp_kT0qbt"
      }
    },
    {
      "cell_type": "code",
      "source": [
        "def calculate_distance(pickup_lat, pickup_long, dropoff_lat, dropoff_long):\n",
        "    if pickup_lat is None or pickup_long is None or dropoff_lat is None or dropoff_long is None:\n",
        "        return None\n",
        "    if -90 <= pickup_lat <= 90 and -180 <= pickup_long <= 180 and -90 <= dropoff_lat <= 90 and -180 <= dropoff_long <= 180:\n",
        "        pickup = (pickup_lat, pickup_long)\n",
        "        dropoff = (dropoff_lat, dropoff_long)\n",
        "        return great_circle(pickup, dropoff).kilometers\n",
        "    else:\n",
        "        return None"
      ],
      "metadata": {
        "id": "Q4PIF2xq0WD6"
      },
      "execution_count": null,
      "outputs": []
    },
    {
      "cell_type": "code",
      "source": [
        "udf_calculate_distance = udf(calculate_distance, DoubleType())"
      ],
      "metadata": {
        "id": "5jTdF1r10uBy"
      },
      "execution_count": null,
      "outputs": []
    },
    {
      "cell_type": "code",
      "source": [
        "# Add a new column for the trip distance\n",
        "df = df.withColumn(\"trip_distance\", udf_calculate_distance(\n",
        "    col(\"pickup_latitude\"), col(\"pickup_longitude\"),\n",
        "    col(\"dropoff_latitude\"), col(\"dropoff_longitude\")))"
      ],
      "metadata": {
        "id": "eogbJpGe0wBa"
      },
      "execution_count": null,
      "outputs": []
    },
    {
      "cell_type": "code",
      "source": [
        "df = df.na.drop()"
      ],
      "metadata": {
        "id": "2OZgiDGn0z8-"
      },
      "execution_count": null,
      "outputs": []
    },
    {
      "cell_type": "code",
      "source": [
        "df = df.withColumn(\"pickup_hour\", hour(col(\"pickup_datetime\")))\n",
        "df = df.withColumn(\"pickup_day_of_week\", dayofweek(col(\"pickup_datetime\")))"
      ],
      "metadata": {
        "id": "UPQYfqo507Up"
      },
      "execution_count": null,
      "outputs": []
    },
    {
      "cell_type": "code",
      "source": [
        "df.show(5)"
      ],
      "metadata": {
        "colab": {
          "base_uri": "https://localhost:8080/"
        },
        "id": "JDTkmhk50-v_",
        "outputId": "943b1679-54f3-4081-bf2e-a3749270c6a1"
      },
      "execution_count": null,
      "outputs": [
        {
          "output_type": "stream",
          "name": "stdout",
          "text": [
            "+-------+-----------+-------------------+----------------+---------------+-----------------+----------------+---------------+------------------+-----------+------------------+\n",
            "|    key|fare_amount|    pickup_datetime|pickup_longitude|pickup_latitude|dropoff_longitude|dropoff_latitude|passenger_count|     trip_distance|pickup_hour|pickup_day_of_week|\n",
            "+-------+-----------+-------------------+----------------+---------------+-----------------+----------------+---------------+------------------+-----------+------------------+\n",
            "|26:21.0|        4.5|2009-06-15 17:26:21|      -73.844311|      40.721319|        -73.84161|       40.712278|              1|  1.03076539115918|         17|                 2|\n",
            "|52:16.0|       16.9|2010-01-05 16:52:16|      -74.016048|      40.711303|       -73.979268|       40.782004|              1|  8.45014553289593|         16|                 3|\n",
            "|35:00.0|        5.7|2011-08-18 00:35:00|      -73.982738|       40.76127|       -73.991242|       40.750562|              2|1.3895271886843141|          0|                 5|\n",
            "|30:42.0|        7.7|2012-04-21 04:30:42|       -73.98713|      40.733143|       -73.991567|       40.758092|              1|2.7992741943759913|          4|                 7|\n",
            "|51:00.0|        5.3|2010-03-09 07:51:00|      -73.968095|      40.768008|       -73.956655|       40.783762|              1|1.9991596121074495|          7|                 3|\n",
            "+-------+-----------+-------------------+----------------+---------------+-----------------+----------------+---------------+------------------+-----------+------------------+\n",
            "only showing top 5 rows\n",
            "\n"
          ]
        }
      ]
    },
    {
      "cell_type": "markdown",
      "source": [
        "Vector assembler"
      ],
      "metadata": {
        "id": "U_-gnO8H1aHl"
      }
    },
    {
      "cell_type": "code",
      "source": [
        "assembler = VectorAssembler(inputCols=[\"pickup_longitude\", \"pickup_latitude\",\n",
        "                                       \"dropoff_longitude\", \"dropoff_latitude\",\n",
        "                                       \"passenger_count\", \"trip_distance\",\n",
        "                                       \"pickup_hour\", \"pickup_day_of_week\"],\n",
        "                            outputCol=\"assembledFeatures\")\n",
        "df_assembled = assembler.transform(df)"
      ],
      "metadata": {
        "id": "16e9TGDT1Ai9"
      },
      "execution_count": null,
      "outputs": []
    },
    {
      "cell_type": "markdown",
      "source": [
        "Scaling on assembled features\n"
      ],
      "metadata": {
        "id": "APaHRzIO1c07"
      }
    },
    {
      "cell_type": "code",
      "source": [
        "scaler = StandardScaler(inputCol=\"assembledFeatures\", outputCol=\"scaledFeatures\", withStd=True, withMean=False)\n",
        "sc_md = scaler.fit(df_assembled)\n",
        "df_scaled = sc_md.transform(df_assembled)"
      ],
      "metadata": {
        "id": "ZLJo0kKj1WAu"
      },
      "execution_count": null,
      "outputs": []
    },
    {
      "cell_type": "markdown",
      "source": [
        "# **Model Evaluation time**"
      ],
      "metadata": {
        "id": "KQKQMa_f18LT"
      }
    },
    {
      "cell_type": "code",
      "source": [
        "train_data, test_data = df_scaled.randomSplit([0.8, 0.2], seed=42)"
      ],
      "metadata": {
        "id": "1VKqSTy-1gJ-"
      },
      "execution_count": null,
      "outputs": []
    },
    {
      "cell_type": "markdown",
      "source": [
        "# **Random Forest**"
      ],
      "metadata": {
        "id": "CwcMwWCB3BUF"
      }
    },
    {
      "cell_type": "code",
      "source": [
        "rf = RandomForestRegressor(featuresCol=\"scaledFeatures\", labelCol=\"fare_amount\")\n",
        "rf_model = rf.fit(train_data)"
      ],
      "metadata": {
        "id": "2S_YkUPZ2AgX"
      },
      "execution_count": null,
      "outputs": []
    },
    {
      "cell_type": "code",
      "source": [
        "predictions = rf_model.transform(test_data)"
      ],
      "metadata": {
        "id": "KSBQZ8kT28Gi"
      },
      "execution_count": null,
      "outputs": []
    },
    {
      "cell_type": "code",
      "source": [
        "# Evaluate the model\n",
        "evaluator = RegressionEvaluator(labelCol=\"fare_amount\", predictionCol=\"prediction\", metricName=\"rmse\")\n",
        "mse_evaluator = RegressionEvaluator(labelCol=\"fare_amount\", predictionCol=\"prediction\", metricName=\"mse\")\n",
        "r2_evaluator = RegressionEvaluator(labelCol=\"fare_amount\", predictionCol=\"prediction\", metricName=\"r2\")"
      ],
      "metadata": {
        "id": "avjGhDyEtKa-"
      },
      "execution_count": null,
      "outputs": []
    },
    {
      "cell_type": "code",
      "source": [
        "rmse = evaluator.evaluate(predictions)\n",
        "mse = mse_evaluator.evaluate(predictions)\n",
        "r2_score = r2_evaluator.evaluate(predictions)\n",
        "print(\"Root Mean Squared Error (RMSE) on test data =\", rmse)\n",
        "print(\"Mean Squared Error (MSE) on test data =\", mse)\n",
        "print(\"R-squared on test data =\", r2_score)\n"
      ],
      "metadata": {
        "colab": {
          "base_uri": "https://localhost:8080/"
        },
        "id": "m-qOwRK9unsY",
        "outputId": "c40796d4-87ce-4869-9a13-52474f5941c7"
      },
      "execution_count": null,
      "outputs": [
        {
          "output_type": "stream",
          "name": "stdout",
          "text": [
            "Root Mean Squared Error (RMSE) on test data = 2.4518007194210765\n",
            "Mean Squared Error (MSE) on test data = 6.011326767753709\n",
            "R-squared on test data = 0.6502862763351845\n"
          ]
        }
      ]
    },
    {
      "cell_type": "markdown",
      "source": [
        "Linear Regression"
      ],
      "metadata": {
        "id": "NRm4Lc326-ud"
      }
    },
    {
      "cell_type": "code",
      "source": [
        "# Ilinear\n",
        "lr = LinearRegression(featuresCol=\"scaledFeatures\", labelCol=\"fare_amount\")\n",
        "lr_model = lr.fit(train_data)"
      ],
      "metadata": {
        "id": "lyt9Kwba62ko"
      },
      "execution_count": null,
      "outputs": []
    },
    {
      "cell_type": "code",
      "source": [
        "predictions_lin = lr_model.transform(test_data)"
      ],
      "metadata": {
        "id": "eaekgguQAVrm"
      },
      "execution_count": null,
      "outputs": []
    },
    {
      "cell_type": "code",
      "source": [
        "# Evaluate the model\n",
        "evaluator_rmse = RegressionEvaluator(labelCol=\"fare_amount\", predictionCol=\"prediction\", metricName=\"rmse\")\n",
        "evaluator_mse = RegressionEvaluator(labelCol=\"fare_amount\", predictionCol=\"prediction\", metricName=\"mse\")\n",
        "evaluator_r2 = RegressionEvaluator(labelCol=\"fare_amount\", predictionCol=\"prediction\", metricName=\"r2\")"
      ],
      "metadata": {
        "id": "vuDkOpmNt6iL"
      },
      "execution_count": null,
      "outputs": []
    },
    {
      "cell_type": "code",
      "source": [
        "rmse = evaluator_rmse.evaluate(predictions_lin)\n",
        "mse = evaluator_mse.evaluate(predictions_lin)\n",
        "r2_score = evaluator_r2.evaluate(predictions_lin)"
      ],
      "metadata": {
        "id": "qa8KzbdSt9Hn"
      },
      "execution_count": null,
      "outputs": []
    },
    {
      "cell_type": "code",
      "source": [
        "print(\"Root Mean Squared Error (RMSE) on test data =\", rmse)\n",
        "print(\"Mean Squared Error (MSE) on test data =\", mse)\n",
        "print(\"R-squared on test data =\", r2_score)"
      ],
      "metadata": {
        "colab": {
          "base_uri": "https://localhost:8080/"
        },
        "id": "aTEfeLlpwv39",
        "outputId": "1763e172-0490-4326-b44f-372447c86cf5"
      },
      "execution_count": null,
      "outputs": [
        {
          "output_type": "stream",
          "name": "stdout",
          "text": [
            "Root Mean Squared Error (RMSE) on test data = 9.728702690435124\n",
            "Mean Squared Error (MSE) on test data = 94.64765603887963\n",
            "R-squared on test data = 0.10607634764581153\n"
          ]
        }
      ]
    },
    {
      "cell_type": "code",
      "source": [
        "from pyspark.ml.regression import GBTRegressor\n",
        "from pyspark.ml.evaluation import RegressionEvaluator\n",
        "\n",
        "gbt = GBTRegressor(featuresCol=\"scaledFeatures\", labelCol=\"fare_amount\", maxIter=10)\n",
        "gbt_model = gbt.fit(train_data)"
      ],
      "metadata": {
        "id": "tDJ2BhB4mfSi"
      },
      "execution_count": null,
      "outputs": []
    },
    {
      "cell_type": "code",
      "source": [
        "gbt_predictions = gbt_model.transform(test_data)"
      ],
      "metadata": {
        "id": "FfewBcnTmk2p"
      },
      "execution_count": null,
      "outputs": []
    },
    {
      "cell_type": "code",
      "source": [
        "# Evaluate the model\n",
        "gbt_evaluator_rmse = RegressionEvaluator(labelCol=\"fare_amount\", predictionCol=\"prediction\", metricName=\"rmse\")\n",
        "gbt_evaluator_r2 = RegressionEvaluator(labelCol=\"fare_amount\", predictionCol=\"prediction\", metricName=\"r2\")\n",
        "gbt_evaluator_mse = RegressionEvaluator(labelCol=\"fare_amount\", predictionCol=\"prediction\", metricName=\"mse\")"
      ],
      "metadata": {
        "id": "T1gEVvC1o9Md"
      },
      "execution_count": null,
      "outputs": []
    },
    {
      "cell_type": "code",
      "source": [
        "gbt_rmse = gbt_evaluator_rmse.evaluate(gbt_predictions)\n",
        "r2_score = gbt_evaluator_r2.evaluate(gbt_predictions)\n",
        "mse = gbt_evaluator_mse.evaluate(gbt_predictions)"
      ],
      "metadata": {
        "id": "GljaRFr5pAhr"
      },
      "execution_count": null,
      "outputs": []
    },
    {
      "cell_type": "code",
      "source": [
        "print(\"rmse = %g\" % gbt_rmse)\n",
        "print(\"R-squared on test data = %g\" % r2_score)\n",
        "print(\"Mean Squared Error (MSE) on test data = %g\" % mse)"
      ],
      "metadata": {
        "colab": {
          "base_uri": "https://localhost:8080/"
        },
        "id": "5bne7cuy3cxT",
        "outputId": "7caccf41-a914-43d8-be5b-7f46b04c2b5c"
      },
      "execution_count": null,
      "outputs": [
        {
          "output_type": "stream",
          "name": "stdout",
          "text": [
            "rmse = 2.31859\n",
            "R-squared on test data = 0.687256\n",
            "Mean Squared Error (MSE) on test data = 5.37585\n"
          ]
        }
      ]
    }
  ]
}